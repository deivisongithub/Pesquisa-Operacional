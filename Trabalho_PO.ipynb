{
  "nbformat": 4,
  "nbformat_minor": 0,
  "metadata": {
    "colab": {
      "name": "Trabalho PO.ipynb",
      "provenance": [],
      "collapsed_sections": []
    },
    "kernelspec": {
      "name": "python3",
      "display_name": "Python 3"
    },
    "language_info": {
      "name": "python"
    }
  },
  "cells": [
    {
      "cell_type": "code",
      "execution_count": 1,
      "metadata": {
        "colab": {
          "base_uri": "https://localhost:8080/"
        },
        "id": "64FfjewaNjnQ",
        "outputId": "9a052212-6269-46cc-e200-2d9042bb6569"
      },
      "outputs": [
        {
          "output_type": "stream",
          "name": "stdout",
          "text": [
            "Looking in indexes: https://pypi.org/simple, https://us-python.pkg.dev/colab-wheels/public/simple/\n",
            "Requirement already satisfied: mip in /usr/local/lib/python3.7/dist-packages (1.14.0)\n",
            "Requirement already satisfied: cffi in /usr/local/lib/python3.7/dist-packages (from mip) (1.15.0)\n",
            "Requirement already satisfied: pycparser in /usr/local/lib/python3.7/dist-packages (from cffi->mip) (2.21)\n"
          ]
        }
      ],
      "source": [
        "!pip install mip"
      ]
    },
    {
      "cell_type": "code",
      "source": [
        "from mip import *\n",
        "import numpy as np\n",
        "import re"
      ],
      "metadata": {
        "id": "6-lmyz4WN4b9"
      },
      "execution_count": 2,
      "outputs": []
    },
    {
      "cell_type": "code",
      "source": [
        "def read_txt():  #CAMINHO DO ARQUVIVO EM STRING, EXEMPLO: 'projeto.txt'\n",
        "\n",
        "  global vars\n",
        "  global rests\n",
        "  global list_of_coef_obj\n",
        "  global list_of_rest\n",
        "\n",
        "  caminho = input('Insira o caminho do arquivo txt formatado: ')\n",
        "\n",
        "  l = []\n",
        "  with open(caminho) as file:\n",
        "    for line in file:\n",
        "        for i in re.findall(r'\\d+', line):\n",
        "            l.append(i)\n",
        "  \n",
        "  vars = int(l[0])\n",
        "  rests = int(l[1])\n",
        "  for i in range(2, 2+vars):\n",
        "    list_of_coef_obj.append(int(l[i]))\n",
        "\n",
        "  count = 0\n",
        "  aux = []\n",
        "  for i in range(2+vars, len(l)):\n",
        "    if count == vars:\n",
        "      aux.append(int(l[i]))\n",
        "      list_of_rest.append(aux)\n",
        "      aux = []\n",
        "      count = 0\n",
        "    else:\n",
        "      aux.append(int(l[i]))\n",
        "      count += 1"
      ],
      "metadata": {
        "id": "s64kDVRizDsv"
      },
      "execution_count": 3,
      "outputs": []
    },
    {
      "cell_type": "code",
      "source": [
        "def create_model(vars, rests, list_of_coef_obj, list_of_rest):\n",
        "\n",
        "  model = Model(sense=MAXIMIZE)\n",
        "\n",
        "  x = [model.add_var(var_type=\"CONTINUOUS\",\n",
        "                      lb=0, ub=1, name=\"x_\" + str(i)) for i in range(vars)]\n",
        "\n",
        "  model.objective = xsum(list_of_coef_obj[i]*x[i]\n",
        "                           for i in range(vars))\n",
        "\n",
        "  for i in range(rests):\n",
        "      model += xsum(list_of_rest[i][j]*x[j] for j in range(vars)) <= list_of_rest[i][-1]\n",
        "\n",
        "  return model"
      ],
      "metadata": {
        "id": "XKya2Vo8PAFg"
      },
      "execution_count": 4,
      "outputs": []
    },
    {
      "cell_type": "code",
      "source": [
        "def solver(model):\n",
        "  model.optimize()\n",
        "  params = {}\n",
        "  params[\"objective\"] = model.objective_value\n",
        "  params[\"vars\"] = model.vars\n",
        "\n",
        "  return params"
      ],
      "metadata": {
        "id": "BEtiSiO0TT2D"
      },
      "execution_count": 5,
      "outputs": []
    },
    {
      "cell_type": "code",
      "source": [
        "def branch_and_bound(model):\n",
        "  nodes = [model]\n",
        "  global primal\n",
        "  primal = 0\n",
        "\n",
        "  global optimal_model\n",
        "\n",
        "  while nodes != []:\n",
        "    model_solver = solver(nodes[0])\n",
        "    aux = bound(nodes[0])\n",
        "    if aux == 'INVIABILIDADE' or aux == 'LIMITE':\n",
        "      nodes.pop(0)\n",
        "    elif aux == 'INTEGRALIDADE':\n",
        "      if model_solver[\"objective\"] >= primal:\n",
        "        optimal_model = nodes[0]\n",
        "        primal = model_solver[\"objective\"]\n",
        "      nodes.pop(0)\n",
        "    elif aux == 'FRACIONÁRIO':\n",
        "      nodes.append(branch(nodes[0], model_solver[\"vars\"])[0])\n",
        "      nodes.append(branch(nodes[0], model_solver[\"vars\"])[1])\n",
        "      nodes.pop(0)"
      ],
      "metadata": {
        "id": "tHNmpHcRvGVG"
      },
      "execution_count": 6,
      "outputs": []
    },
    {
      "cell_type": "code",
      "source": [
        "def bound(model):\n",
        "  aux_solver = solver(model)\n",
        "  count_int = 0\n",
        "  global primal\n",
        "\n",
        "  if aux_solver[\"objective\"] == None:\n",
        "    return 'INVIABILIDADE'\n",
        "\n",
        "  for i in aux_solver[\"vars\"]:\n",
        "    if i.x.is_integer():\n",
        "      count_int += 1\n",
        "  \n",
        "  if count_int == vars:\n",
        "    return 'INTEGRALIDADE'\n",
        "\n",
        "  if aux_solver[\"objective\"] <= primal:\n",
        "    return 'LIMITE'\n",
        "  return 'FRACIONÁRIO'"
      ],
      "metadata": {
        "id": "OpTFSOMw2TUQ"
      },
      "execution_count": 7,
      "outputs": []
    },
    {
      "cell_type": "code",
      "source": [
        "def find_nearest(array, value):\n",
        "    array = np.asarray(array)\n",
        "    idx = (np.abs(array - value)).argmin()\n",
        "    return idx"
      ],
      "metadata": {
        "id": "9rNj0UOfvU0-"
      },
      "execution_count": 8,
      "outputs": []
    },
    {
      "cell_type": "code",
      "source": [
        "def branch(model, values_solution):\n",
        "  # escolhe a variável para aplicação das restrições\n",
        "  var_branch = values_solution[find_nearest([i.x for i in values_solution], 0.5)]\n",
        "\n",
        "  # NÓ que terá a restrição var == 0\n",
        "  model_0 = model.copy()\n",
        "  model_0 += var_branch == 0\n",
        "\n",
        "  # NÓ que terá a restrição var == 1\n",
        "  model_1 = model.copy()\n",
        "  model_1 += var_branch == 1\n",
        "\n",
        "  return [model_0, model_1]"
      ],
      "metadata": {
        "id": "92k4bzfdiG6E"
      },
      "execution_count": 9,
      "outputs": []
    },
    {
      "cell_type": "code",
      "source": [
        "def main():\n",
        "\n",
        "  read_txt()\n",
        "\n",
        "  test = create_model(vars, rests, list_of_coef_obj, list_of_rest)\n",
        "\n",
        "  branch_and_bound(test)\n",
        "  solved = solver(optimal_model)\n",
        "\n",
        "  #Print soluçao otima\n",
        "  for i in solved[\"vars\"]:\n",
        "    print(i.name, ' = ', i.x)\n",
        "  print('Z = ',solved[\"objective\"])"
      ],
      "metadata": {
        "id": "nwdnZbOZWTAb"
      },
      "execution_count": 10,
      "outputs": []
    },
    {
      "cell_type": "code",
      "source": [
        "#VARIAVEIS GLOBAIS\n",
        "\n",
        "primal = 0 #inferior\n",
        "optimal_model = 0\n",
        "vars = 0\n",
        "rests = 0\n",
        "list_of_coef_obj = []\n",
        "list_of_rest = []\n",
        "\n",
        "#CHAMADO DA FUNÇÂO MAIN\n",
        "main()"
      ],
      "metadata": {
        "id": "HL2T-gjzuqzR",
        "colab": {
          "base_uri": "https://localhost:8080/"
        },
        "outputId": "1c2dfa38-c8ad-48b6-c8fc-06fb49a9423d"
      },
      "execution_count": 11,
      "outputs": [
        {
          "output_type": "stream",
          "name": "stdout",
          "text": [
            "Insira o caminho do arquivo txt formatado: /teste_po.txt\n",
            "x_0  =  0.0\n",
            "x_1  =  1.0\n",
            "x_2  =  0.0\n",
            "x_3  =  0.0\n",
            "x_4  =  1.0\n",
            "x_5  =  0.0\n",
            "x_6  =  0.0\n",
            "Z =  20.0\n"
          ]
        }
      ]
    }
  ]
}