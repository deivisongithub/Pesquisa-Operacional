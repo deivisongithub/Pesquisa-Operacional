{
 "cells": [
  {
   "cell_type": "code",
   "execution_count": 1,
   "metadata": {
    "id": "939XOf44DZPB"
   },
   "outputs": [],
   "source": [
    "# Aluno: ARTUR LUIS BRITO GURJAO   /   Matricula: 20200024903\n",
    "# Aluno: DEIVISON RODRIGUES JORDAO /   Matricula: 20200023728"
   ]
  },
  {
   "cell_type": "code",
   "execution_count": 2,
   "metadata": {
    "colab": {
     "base_uri": "https://localhost:8080/"
    },
    "id": "64FfjewaNjnQ",
    "outputId": "b0611c10-ffe2-43a7-e3cb-2d7aa2339668"
   },
   "outputs": [
    {
     "name": "stdout",
     "output_type": "stream",
     "text": [
      "Requirement already satisfied: mip in d:\\anaconda\\lib\\site-packages (1.13.0)\n",
      "Requirement already satisfied: cffi in d:\\anaconda\\lib\\site-packages (from mip) (1.14.6)\n",
      "Requirement already satisfied: pycparser in d:\\anaconda\\lib\\site-packages (from cffi->mip) (2.20)\n"
     ]
    }
   ],
   "source": [
    "!pip install mip"
   ]
  },
  {
   "cell_type": "code",
   "execution_count": 3,
   "metadata": {
    "id": "6-lmyz4WN4b9"
   },
   "outputs": [],
   "source": [
    "from mip import *\n",
    "import numpy as np\n",
    "import re"
   ]
  },
  {
   "cell_type": "code",
   "execution_count": 4,
   "metadata": {
    "id": "s64kDVRizDsv"
   },
   "outputs": [],
   "source": [
    "#Função que lê arquivo TXT e seta as variavéis globais\n",
    "def read_txt():  #CAMINHO DO ARQUVIVO EM STRING, EXEMPLO: 'projeto.txt'\n",
    "\n",
    "  global vars  #quantidade de variavéis do modelo\n",
    "  global rests  #quantidade de restrições\n",
    "  global list_of_coef_obj #lista com os coeficientes da função objetivo - EX: 4x1 + 5x2 + 8x3  = [4, 5, 8]\n",
    "  global list_of_coef_rest #lista com os coeficientes das restrições - EX: 5x1 + 1x2 + 4x3 <= 10 = [5, 1, 4, 10]\n",
    "\n",
    "  caminho = input('Insira o caminho do arquivo txt formatado: ')\n",
    "\n",
    "  l = []\n",
    "  with open(caminho) as file: #Onde abre o arquivo TXT e separa por valores e insere numa lista \"l\"\n",
    "    for line in file:\n",
    "        for i in re.findall(r'\\d+', line):\n",
    "            l.append(i)\n",
    "  \n",
    "  vars = int(l[0])  #seta nas variáveis globais o vars e o rests pelo primeiro e segundo valor da lista\n",
    "  rests = int(l[1])\n",
    "  for i in range(2, 2+vars):  #Um laço que vai do terceiro valor da lista, até a quantidade de variáveis do modelo, que no caso, pega os coeficientes da função objetivo\n",
    "    list_of_coef_obj.append(int(l[i]))\n",
    "\n",
    "  count = 0\n",
    "  aux = []\n",
    "  for i in range(2+vars, len(l)):  #Um laço que vai da última variável da função objetivo até o final da lista, mas, é utilizado uma lista auxiliar para ir adicionando as restrições\n",
    "    if count == vars:\n",
    "      aux.append(int(l[i]))\n",
    "      list_of_coef_rest.append(aux)\n",
    "      aux = []\n",
    "      count = 0\n",
    "    else:\n",
    "      aux.append(int(l[i]))\n",
    "      count += 1"
   ]
  },
  {
   "cell_type": "code",
   "execution_count": 5,
   "metadata": {
    "id": "XKya2Vo8PAFg"
   },
   "outputs": [],
   "source": [
    "def create_model(vars, rests, list_of_coef_obj, list_of_coef_rest): #Função que recebe quantidade de variáveis, restrições, lista de coeficientes da função objetivo e lista de coeficientes das restrições e retorna um modelo python MIP\n",
    "\n",
    "  model = Model(sense=MAXIMIZE)  #Parâmetro de maximizar\n",
    "\n",
    "  x = [model.add_var(var_type=\"CONTINUOUS\",   #Colocamos que as variáveis variam de 0 a 1, de forma contínua\n",
    "                      lb=0, ub=1, name=\"x_\" + str(i)) for i in range(vars)]\n",
    "\n",
    "  model.objective = xsum(list_of_coef_obj[i]*x[i]   #Função objetivo vai de um laço i onde pega o indices i da lista de coeficiente vezes a variável criada no x\n",
    "                           for i in range(vars))\n",
    "\n",
    "  for i in range(rests):  #Laço que implementa as restrições, pegando os indices j para cada i\n",
    "      model += xsum(list_of_coef_rest[i][j]*x[j] for j in range(vars)) <= list_of_coef_rest[i][-1]\n",
    "\n",
    "  return model"
   ]
  },
  {
   "cell_type": "code",
   "execution_count": 6,
   "metadata": {
    "id": "BEtiSiO0TT2D"
   },
   "outputs": [],
   "source": [
    "def solver(model):    #Função solver que retorna um dicionário, nele há 2 chaves, objective é onde fica o valor da função objetivo, vars é onde fica uma lista com as variáveis\n",
    "  model.optimize()\n",
    "  params = {}\n",
    "  params[\"objective\"] = model.objective_value\n",
    "  params[\"vars\"] = model.vars\n",
    "\n",
    "  return params"
   ]
  },
  {
   "cell_type": "code",
   "execution_count": 7,
   "metadata": {
    "id": "OpTFSOMw2TUQ"
   },
   "outputs": [],
   "source": [
    "def bound(model):    #Função que retorna string de acordo com o modelo\n",
    "  global primal\n",
    "  flag_solver = solver(model)\n",
    "  count_int = 0\n",
    "\n",
    "  if flag_solver[\"objective\"] == None:   #Se a função objetivo do modelo for None, é inviável\n",
    "    return 'INVIABILIDADE'\n",
    "\n",
    "  for i in flag_solver[\"vars\"]:  #Aqui faz um contador de inteiros no count_int\n",
    "    if i.x.is_integer():\n",
    "      count_int += 1\n",
    "  \n",
    "  if count_int == len(flag_solver[\"vars\"]): #Se a quantidade de inteiros nas variáveis for igual a quantidade de variáveis, são todos inteiros então retorna integralidade\n",
    "    return 'INTEGRALIDADE'\n",
    "\n",
    "  if flag_solver[\"objective\"] <= primal:   #Aqui retorna limite se a função objetivo for menor que o primal, sendo limitante\n",
    "    return 'LIMITE'\n",
    "  return 'FRACIONÁRIO'    #Aqui retorna fracionário se não for nenhuma das acimas, então é viável o modelo"
   ]
  },
  {
   "cell_type": "code",
   "execution_count": 8,
   "metadata": {
    "id": "9rNj0UOfvU0-"
   },
   "outputs": [],
   "source": [
    "def find_nearest(array, value):   #Função que recebe uma lista de variável e um valor, busca na lista a variável mais próxima do valor e retorna o indíce dela(idx)\n",
    "    array = np.asarray(array)\n",
    "    idx = (np.abs(array - value)).argmin()\n",
    "    return idx"
   ]
  },
  {
   "cell_type": "code",
   "execution_count": 9,
   "metadata": {
    "id": "92k4bzfdiG6E"
   },
   "outputs": [],
   "source": [
    "def branch(model, values_solution): #Função branch, recebe o modelo e a lista de variáveis do modelo, que ramifica e retorna uma lista com os 2 modelos(restrições x==0 e x==1)\n",
    "\n",
    "  var_branch = values_solution[find_nearest([i.x for i in values_solution], 0.5)]   #nessa var_branch, pegamos o valor da lista de variáveis que tem o valor mais próximo de 0.5, através do indice que é retornado da função find_nearest\n",
    "\n",
    "  model_0 = model.copy()   #Nó que tem restrição var == 0\n",
    "  model_0 += var_branch == 0\n",
    "\n",
    "  model_1 = model.copy()   #Nó que tem restrição var == 1\n",
    "  model_1 += var_branch == 1\n",
    "\n",
    "  return (model_0, model_1)"
   ]
  },
  {
   "cell_type": "code",
   "execution_count": 10,
   "metadata": {
    "id": "tHNmpHcRvGVG"
   },
   "outputs": [],
   "source": [
    "def branch_and_bound(model):  #Função branch_and_bound que faz todo o preço de adicionar e remover da lista de nós\n",
    "  global optimal_model\n",
    "  global primal #Utilizando apenas o primal\n",
    "  nodes = [model]  #Fila\n",
    "\n",
    "  while nodes != []:   #Enquanto a lista estiver com modelos, ele continua\n",
    "    model_solver = solver(nodes[0])\n",
    "    flag_bound = bound(nodes[0])    #Aqui utilizamos a função bound que tem como papel retornar se deve podar a ramificação, a única string retornada que não é podada é a 'FRACIONÁRIO'\n",
    "    if flag_bound == 'INVIABILIDADE' or flag_bound == 'LIMITE':   \n",
    "      nodes.pop(0)   #Se for inviável ou limitante, apenas removemos o atual modelo da lista de modelos(nó)\n",
    "    elif flag_bound == 'INTEGRALIDADE':    #Se for podada por integralidade, verificamos se o valor da função objetivo é maior ou igual que o primal, se for, o modelo ótimo é substituido pelo modelo atual, o primal também é atualizado\n",
    "      if model_solver[\"objective\"] > primal:\n",
    "        optimal_model = nodes[0]\n",
    "        primal = model_solver[\"objective\"]\n",
    "      nodes.pop(0)\n",
    "    elif flag_bound == 'FRACIONÁRIO':   #Se for fracionário(viável), faremos duas restrições, utilizando a função bound, que retorna uma lista com os modelos já com as restrições e adiciona na lista com os nós, após isso é removido o atual modelo\n",
    "      flag_branch = branch(nodes[0], model_solver[\"vars\"])\n",
    "      nodes.append(flag_branch[0])\n",
    "      nodes.append(flag_branch[1])\n",
    "      nodes.pop(0)"
   ]
  },
  {
   "cell_type": "code",
   "execution_count": 11,
   "metadata": {
    "id": "nwdnZbOZWTAb"
   },
   "outputs": [],
   "source": [
    "def main():  #Função que faz o processo de chamar as outras funções\n",
    "  read_txt()\n",
    "\n",
    "  run = create_model(vars, rests, list_of_coef_obj, list_of_coef_rest)\n",
    "\n",
    "  branch_and_bound(run)\n",
    "  model_solved = solver(optimal_model)\n",
    "\n",
    "  print(\"Variables:\")\n",
    "  for i in model_solved[\"vars\"]:\n",
    "    print(i.name, ' = ', i.x)\n",
    "  print(\"Objective function:\")\n",
    "  print('Z = ', model_solved[\"objective\"])"
   ]
  },
  {
   "cell_type": "code",
   "execution_count": 12,
   "metadata": {
    "colab": {
     "base_uri": "https://localhost:8080/"
    },
    "id": "HL2T-gjzuqzR",
    "outputId": "1188640b-d515-417d-c894-5bcd098fb020"
   },
   "outputs": [
    {
     "name": "stdout",
     "output_type": "stream",
     "text": [
      "Insira o caminho do arquivo txt formatado: teste_po.txt\n",
      "Variables:\n",
      "x_0  =  0.0\n",
      "x_1  =  0.0\n",
      "x_2  =  0.0\n",
      "x_3  =  0.0\n",
      "x_4  =  1.0\n",
      "x_5  =  1.0\n",
      "x_6  =  0.0\n",
      "Objective function:\n",
      "Z =  20.0\n"
     ]
    }
   ],
   "source": [
    "#VARIAVEIS GLOBAIS\n",
    "\n",
    "primal = 0 #inferior\n",
    "optimal_model = None\n",
    "vars = 0\n",
    "rests = 0\n",
    "list_of_coef_obj = []\n",
    "list_of_coef_rest = []\n",
    "\n",
    "#CHAMADO DA FUNÇÂO MAIN\n",
    "main()"
   ]
  }
 ],
 "metadata": {
  "colab": {
   "collapsed_sections": [],
   "name": "Trabalho PO.ipynb",
   "provenance": []
  },
  "kernelspec": {
   "display_name": "Python 3 (ipykernel)",
   "language": "python",
   "name": "python3"
  },
  "language_info": {
   "codemirror_mode": {
    "name": "ipython",
    "version": 3
   },
   "file_extension": ".py",
   "mimetype": "text/x-python",
   "name": "python",
   "nbconvert_exporter": "python",
   "pygments_lexer": "ipython3",
   "version": "3.9.7"
  }
 },
 "nbformat": 4,
 "nbformat_minor": 1
}
